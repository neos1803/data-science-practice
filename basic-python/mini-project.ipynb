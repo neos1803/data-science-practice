{
 "cells": [
  {
   "cell_type": "markdown",
   "metadata": {},
   "source": [
    "## Mini Project 1 (Remove Duplicate List)"
   ]
  },
  {
   "cell_type": "markdown",
   "metadata": {},
   "source": [
    "### Without using set"
   ]
  },
  {
   "cell_type": "code",
   "execution_count": 3,
   "metadata": {},
   "outputs": [
    {
     "name": "stdout",
     "output_type": "stream",
     "text": [
      "[1, 2, 3, 5, 7, 8]\n"
     ]
    }
   ],
   "source": [
    "def removeDuplicate(ls):\n",
    "    unique_list = []\n",
    "    for value in obj_list:\n",
    "        if value not in unique_list:\n",
    "            unique_list.append(value)\n",
    "    return unique_list\n",
    "\n",
    "obj_list = [1,1,1,2,2,3,5,5,7,8]\n",
    "print(removeDuplicate(obj_list))"
   ]
  },
  {
   "cell_type": "markdown",
   "metadata": {},
   "source": [
    "### By using set"
   ]
  },
  {
   "cell_type": "code",
   "execution_count": 5,
   "metadata": {},
   "outputs": [
    {
     "name": "stdout",
     "output_type": "stream",
     "text": [
      "[1, 2, 3, 5, 7, 8]\n"
     ]
    }
   ],
   "source": [
    "def removeDuplicate(ls):\n",
    "    unique_list = list(set(ls))\n",
    "    return unique_list\n",
    "\n",
    "obj_list = [1,1,1,2,2,3,5,5,7,8]\n",
    "print(removeDuplicate(obj_list))"
   ]
  },
  {
   "cell_type": "markdown",
   "metadata": {},
   "source": [
    "## Mini Project 2 (Simple Chatbot)"
   ]
  },
  {
   "cell_type": "code",
   "execution_count": 6,
   "metadata": {},
   "outputs": [
    {
     "name": "stdout",
     "output_type": "stream",
     "text": [
      "Lets's talk >____<\n",
      "?\n",
      "Saya tak paham apa yang kamu katakan :(\n",
      "\n",
      "Serius kamu tak paham?\n",
      "Saya tak paham apa yang kamu katakan :(\n",
      "\n",
      "Nama kamu siapa? Aku pingin tahu\n",
      "Saya chatbot\n",
      "\n",
      "bye deh kalau gitu :(\n",
      "Goodbye >___<\n"
     ]
    }
   ],
   "source": [
    "from datetime import datetime\n",
    "import random\n",
    "\n",
    "name = 'chatbot'\n",
    "date = datetime.now().day\n",
    "\n",
    "answers = {\n",
    "    'Nama' : 'Saya {0}'.format(name),\n",
    "    'Tanggal' : 'Tanggal hari ini {0}'.format(date),\n",
    "    'default' : 'Saya tak paham apa yang kamu katakan :('\n",
    "}\n",
    "\n",
    "statements = [\n",
    "    'That\\'s cool',\n",
    "    'I see',\n",
    "    'Really?',\n",
    "    'That doesnt\\'s mean i care'\n",
    "]\n",
    "\n",
    "print('Lets\\'s talk >____<')\n",
    "\n",
    "def continousInput():\n",
    "    w = input(\"\")\n",
    "    if 'exit' in w.lower() or 'bye' in w.lower():\n",
    "        print(\"Goodbye >___<\")\n",
    "    else:\n",
    "        return simpleChatBot(w)\n",
    "\n",
    "def simpleChatBot(words):\n",
    "    if words.endswith('?') or '?' in words:\n",
    "        if 'Nama' in words or 'nama' in words:\n",
    "            print(answers.get('Nama') + '\\n')\n",
    "        elif 'Tanggal' in words or 'tanggal' in words:\n",
    "            print(answers.get('tanggal') + '\\n')\n",
    "        else:\n",
    "            print(answers.get('default') + '\\n')\n",
    "    else:\n",
    "        print(random.choice(statements) + '\\n')\n",
    "    return continousInput()\n",
    "\n",
    "continousInput()"
   ]
  }
 ],
 "metadata": {
  "kernelspec": {
   "display_name": "Python 3",
   "language": "python",
   "name": "python3"
  },
  "language_info": {
   "codemirror_mode": {
    "name": "ipython",
    "version": 3
   },
   "file_extension": ".py",
   "mimetype": "text/x-python",
   "name": "python",
   "nbconvert_exporter": "python",
   "pygments_lexer": "ipython3",
   "version": "3.7.3"
  }
 },
 "nbformat": 4,
 "nbformat_minor": 2
}
